{
  "nbformat": 4,
  "nbformat_minor": 0,
  "metadata": {
    "colab": {
      "name": "diabetics.py",
      "version": "0.3.2",
      "provenance": [],
      "collapsed_sections": [],
      "include_colab_link": true
    },
    "kernelspec": {
      "name": "python3",
      "display_name": "Python 3"
    }
  },
  "cells": [
    {
      "cell_type": "markdown",
      "metadata": {
        "id": "view-in-github",
        "colab_type": "text"
      },
      "source": [
        "<a href=\"https://colab.research.google.com/github/kuruvasatya/hello-world/blob/master/diabetics_py.ipynb\" target=\"_parent\"><img src=\"https://colab.research.google.com/assets/colab-badge.svg\" alt=\"Open In Colab\"/></a>"
      ]
    },
    {
      "cell_type": "code",
      "metadata": {
        "id": "jMragELbfbm0",
        "colab_type": "code",
        "colab": {
          "base_uri": "https://localhost:8080/",
          "height": 201
        },
        "outputId": "7717232a-edf5-4390-ed79-c147731fcd90"
      },
      "source": [
        "#importing libraries\n",
        "\n",
        "import numpy as np\n",
        "import pandas as pd\n",
        "from sklearn.model_selection import train_test_split\n",
        "from sklearn.tree import DecisionTreeClassifier\n",
        "from sklearn.metrics import confusion_matrix \n",
        "from sklearn.metrics import accuracy_score\n",
        "from sklearn.preprocessing import StandardScaler \n",
        "\n",
        "#Loading dataset\n",
        "\n",
        "data=pd.read_csv(\"diabetics.csv\",header=None)\n",
        "\n",
        "print(data.shape)\n",
        "\n",
        "print(data.head(5))\n",
        "\n",
        "x= data.iloc[:,:8]\n",
        "y= data.iloc[:,[8]]\n",
        "\n",
        "#scaler=StandardScaler()\n",
        "\n",
        "#x=scaler.fit_transform(x)\n",
        "\n",
        "#spliting the data\n",
        "\n",
        "x_train,x_test,y_train,y_test = train_test_split(x,y,test_size=0.25,random_state=0)\n",
        "\n",
        "classifier=DecisionTreeClassifier(criterion=\"gini\",random_state=0)\n",
        "\n",
        "#training the model\n",
        "\n",
        "classifier.fit(x_train,y_train)\n",
        "\n",
        "#predicting the test data\n",
        "\n",
        "y_predict=classifier.predict(x_test)\n",
        "\n",
        "#generating confusion matrix\n",
        "\n",
        "cm=confusion_matrix(y_predict,y_test)\n",
        "\n",
        "print(cm)\n",
        "\n",
        "#calculating accuracy for train data\n",
        "\n",
        "print(accuracy_score(classifier.predict(x_train),y_train))\n",
        "\n",
        "#calculating accuracy for test data\n",
        "\n",
        "print(accuracy_score(y_predict,y_test))"
      ],
      "execution_count": 3,
      "outputs": [
        {
          "output_type": "stream",
          "text": [
            "(768, 9)\n",
            "   0    1   2   3    4     5      6   7  8\n",
            "0  6  148  72  35    0  33.6  0.627  50  1\n",
            "1  1   85  66  29    0  26.6  0.351  31  0\n",
            "2  8  183  64   0    0  23.3  0.672  32  1\n",
            "3  1   89  66  23   94  28.1  0.167  21  0\n",
            "4  0  137  40  35  168  43.1  2.288  33  1\n",
            "[[102  26]\n",
            " [ 28  36]]\n",
            "1.0\n",
            "0.71875\n"
          ],
          "name": "stdout"
        }
      ]
    }
  ]
}